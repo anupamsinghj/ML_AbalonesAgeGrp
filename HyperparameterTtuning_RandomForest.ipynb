{
 "cells": [
  {
   "cell_type": "code",
   "execution_count": 44,
   "metadata": {},
   "outputs": [],
   "source": [
    "import pandas\n",
    "from keras.models import Sequential\n",
    "from keras.layers import Dense\n",
    "from keras.wrappers.scikit_learn import KerasClassifier\n",
    "from keras.utils import np_utils\n",
    "from sklearn.model_selection import cross_val_score\n",
    "from sklearn.model_selection import KFold\n",
    "from sklearn.preprocessing import LabelEncoder\n",
    "from sklearn.pipeline import Pipeline"
   ]
  },
  {
   "cell_type": "code",
   "execution_count": 45,
   "metadata": {},
   "outputs": [
    {
     "name": "stdout",
     "output_type": "stream",
     "text": [
      "      Male  Female  Infant   Length  Diameter    Height  Whole_weight  \\\n",
      "0        1       0       0  0.45500    0.3650  0.095000      0.514000   \n",
      "1        1       0       0  0.35000    0.2650  0.090000      0.225500   \n",
      "2        0       1       0  0.53000    0.4200  0.135000      0.677000   \n",
      "3        1       0       0  0.44000    0.3650  0.125000      0.516000   \n",
      "4        0       0       1  0.33000    0.2550  0.080000      0.205000   \n",
      "5        0       0       1  0.42500    0.3000  0.095000      0.351500   \n",
      "6        0       1       0  0.53000    0.4150  0.150000      0.777500   \n",
      "7        0       1       0  0.54500    0.4250  0.125000      0.768000   \n",
      "8        1       0       0  0.47500    0.3700  0.125000      0.509500   \n",
      "9        0       1       0  0.55000    0.4400  0.139719      0.894500   \n",
      "10       0       1       0  0.52500    0.4074  0.140000      0.606500   \n",
      "11       1       0       0  0.43000    0.3500  0.110000      0.406000   \n",
      "12       1       0       0  0.49000    0.3800  0.135000      0.541500   \n",
      "13       0       1       0  0.53500    0.4074  0.145000      0.684500   \n",
      "14       0       1       0  0.47000    0.3550  0.100000      0.475500   \n",
      "15       1       0       0  0.52381    0.4000  0.130000      0.664500   \n",
      "16       0       0       1  0.35500    0.2800  0.085000      0.290500   \n",
      "17       0       1       0  0.44000    0.3400  0.100000      0.451000   \n",
      "18       1       0       0  0.52381    0.2950  0.080000      0.255500   \n",
      "19       1       0       0  0.45000    0.3200  0.100000      0.381000   \n",
      "20       1       0       0  0.52381    0.2800  0.095000      0.245500   \n",
      "21       0       0       1  0.38000    0.2750  0.100000      0.225500   \n",
      "22       0       1       0  0.56500    0.4400  0.155000      0.939500   \n",
      "23       0       1       0  0.55000    0.4150  0.139719      0.763500   \n",
      "24       0       1       0  0.61500    0.4800  0.165000      1.161500   \n",
      "25       0       1       0  0.56000    0.4400  0.140000      0.928500   \n",
      "26       0       1       0  0.52381    0.4500  0.185000      0.828341   \n",
      "27       1       0       0  0.59000    0.4450  0.140000      0.828341   \n",
      "28       1       0       0  0.60500    0.4074  0.180000      0.936500   \n",
      "29       1       0       0  0.57500    0.4250  0.140000      0.863500   \n",
      "...    ...     ...     ...      ...       ...       ...           ...   \n",
      "4147     1       0       0  0.69500    0.5500  0.195000      1.664500   \n",
      "4148     1       0       0  0.77000    0.6050  0.175000      2.050500   \n",
      "4149     0       0       1  0.28000    0.2150  0.070000      0.124000   \n",
      "4150     0       0       1  0.33000    0.2300  0.080000      0.140000   \n",
      "4151     0       0       1  0.35000    0.2500  0.075000      0.169500   \n",
      "4152     0       0       1  0.37000    0.4074  0.090000      0.218000   \n",
      "4153     0       0       1  0.43000    0.3150  0.115000      0.384000   \n",
      "4154     0       0       1  0.52381    0.3300  0.095000      0.393000   \n",
      "4155     0       0       1  0.44000    0.3500  0.110000      0.380500   \n",
      "4156     1       0       0  0.47500    0.3700  0.110000      0.489500   \n",
      "4157     1       0       0  0.52381    0.3600  0.140000      0.513500   \n",
      "4158     0       0       1  0.48000    0.3550  0.110000      0.449500   \n",
      "4159     0       1       0  0.56000    0.4400  0.135000      0.802500   \n",
      "4160     0       1       0  0.58500    0.4750  0.165000      1.053000   \n",
      "4161     0       1       0  0.58500    0.4550  0.170000      0.994500   \n",
      "4162     1       0       0  0.38500    0.2550  0.100000      0.317500   \n",
      "4163     0       0       1  0.39000    0.3100  0.085000      0.344000   \n",
      "4164     0       0       1  0.39000    0.2900  0.100000      0.284500   \n",
      "4165     0       0       1  0.40500    0.3000  0.085000      0.303500   \n",
      "4166     0       0       1  0.47500    0.3650  0.115000      0.499000   \n",
      "4167     1       0       0  0.50000    0.3800  0.125000      0.577000   \n",
      "4168     0       1       0  0.51500    0.4074  0.125000      0.615000   \n",
      "4169     1       0       0  0.52000    0.3850  0.165000      0.791000   \n",
      "4170     1       0       0  0.55000    0.4300  0.130000      0.839500   \n",
      "4171     1       0       0  0.56000    0.4300  0.155000      0.867500   \n",
      "4172     0       1       0  0.56500    0.4500  0.165000      0.887000   \n",
      "4173     1       0       0  0.59000    0.4400  0.139719      0.966000   \n",
      "4174     1       0       0  0.60000    0.4750  0.205000      1.176000   \n",
      "4175     0       1       0  0.62500    0.4850  0.150000      1.094500   \n",
      "4176     1       0       0  0.71000    0.5550  0.195000      1.948500   \n",
      "\n",
      "      Shucked_weight  Viscera_weight  Shell_weight  \n",
      "0           0.224500        0.101000       0.15000  \n",
      "1           0.099500        0.048500       0.07000  \n",
      "2           0.256500        0.141500       0.21000  \n",
      "3           0.215500        0.114000       0.15500  \n",
      "4           0.089500        0.039500       0.05500  \n",
      "5           0.141000        0.077500       0.12000  \n",
      "6           0.237000        0.141500       0.33000  \n",
      "7           0.294000        0.149500       0.26000  \n",
      "8           0.216500        0.112500       0.16500  \n",
      "9           0.314500        0.151000       0.32000  \n",
      "10          0.194000        0.147500       0.21000  \n",
      "11          0.167500        0.081000       0.13500  \n",
      "12          0.217500        0.095000       0.19000  \n",
      "13          0.272500        0.171000       0.20500  \n",
      "14          0.167500        0.180722       0.18500  \n",
      "15          0.258000        0.133000       0.24000  \n",
      "16          0.095000        0.039500       0.11500  \n",
      "17          0.188000        0.087000       0.13000  \n",
      "18          0.097000        0.180722       0.10000  \n",
      "19          0.170500        0.075000       0.11500  \n",
      "20          0.095500        0.062000       0.07500  \n",
      "21          0.080000        0.049000       0.08500  \n",
      "22          0.427500        0.214000       0.27000  \n",
      "23          0.318000        0.210000       0.20000  \n",
      "24          0.513000        0.301000       0.30500  \n",
      "25          0.382500        0.188000       0.30000  \n",
      "26          0.394500        0.272000       0.28500  \n",
      "27          0.356000        0.234000       0.28000  \n",
      "28          0.394000        0.219000       0.29500  \n",
      "29          0.393000        0.227000       0.20000  \n",
      "...              ...             ...           ...  \n",
      "4147        0.727000        0.360000       0.44500  \n",
      "4148        0.800500        0.526000       0.35500  \n",
      "4149        0.063000        0.021500       0.03000  \n",
      "4150        0.056500        0.180722       0.04600  \n",
      "4151        0.083500        0.035500       0.04100  \n",
      "4152        0.099500        0.054500       0.06150  \n",
      "4153        0.188500        0.071500       0.11000  \n",
      "4154        0.219000        0.075000       0.08850  \n",
      "4155        0.157500        0.089500       0.11500  \n",
      "4156        0.218500        0.107000       0.14600  \n",
      "4157        0.241000        0.104500       0.15500  \n",
      "4158        0.201000        0.089000       0.23858  \n",
      "4159        0.359643        0.161500       0.25900  \n",
      "4160        0.458000        0.217000       0.30000  \n",
      "4161        0.425500        0.263000       0.28450  \n",
      "4162        0.137000        0.068000       0.09200  \n",
      "4163        0.181000        0.069500       0.07900  \n",
      "4164        0.125500        0.063500       0.08100  \n",
      "4165        0.150000        0.050500       0.08800  \n",
      "4166        0.232000        0.088500       0.15600  \n",
      "4167        0.359643        0.126500       0.23858  \n",
      "4168        0.286500        0.123000       0.23858  \n",
      "4169        0.375000        0.180000       0.18150  \n",
      "4170        0.315500        0.180722       0.24050  \n",
      "4171        0.400000        0.172000       0.22900  \n",
      "4172        0.370000        0.239000       0.23858  \n",
      "4173        0.439000        0.214500       0.26050  \n",
      "4174        0.525500        0.287500       0.30800  \n",
      "4175        0.531000        0.261000       0.29600  \n",
      "4176        0.945500        0.180722       0.49500  \n",
      "\n",
      "[4177 rows x 10 columns]\n",
      "0       3\n",
      "1       2\n",
      "2       2\n",
      "3       2\n",
      "4       2\n",
      "5       2\n",
      "6       4\n",
      "7       3\n",
      "8       2\n",
      "9       4\n",
      "10      3\n",
      "11      2\n",
      "12      2\n",
      "13      2\n",
      "14      2\n",
      "15      2\n",
      "16      2\n",
      "17      2\n",
      "18      2\n",
      "19      2\n",
      "20      2\n",
      "21      2\n",
      "22      2\n",
      "23      2\n",
      "24      2\n",
      "25      2\n",
      "26      2\n",
      "27      2\n",
      "28      3\n",
      "29      2\n",
      "       ..\n",
      "4147    2\n",
      "4148    2\n",
      "4149    1\n",
      "4150    2\n",
      "4151    1\n",
      "4152    2\n",
      "4153    2\n",
      "4154    1\n",
      "4155    1\n",
      "4156    2\n",
      "4157    2\n",
      "4158    2\n",
      "4159    2\n",
      "4160    2\n",
      "4161    2\n",
      "4162    2\n",
      "4163    2\n",
      "4164    2\n",
      "4165    2\n",
      "4166    2\n",
      "4167    2\n",
      "4168    2\n",
      "4169    2\n",
      "4170    2\n",
      "4171    2\n",
      "4172    2\n",
      "4173    2\n",
      "4174    2\n",
      "4175    2\n",
      "4176    2\n",
      "Name: Rings, Length: 4177, dtype: int64\n"
     ]
    }
   ],
   "source": [
    "data = pandas.read_excel(\"mean_data_final.xlsx\")\n",
    "cl=data.columns\n",
    "X=data[cl[1:len(cl)-1]]\n",
    "y=data['Rings']\n",
    "print(X)\n",
    "print(y)"
   ]
  },
  {
   "cell_type": "code",
   "execution_count": 46,
   "metadata": {},
   "outputs": [],
   "source": [
    "from sklearn.model_selection import train_test_split\n",
    "# dividing X, y into train and test data \n",
    "X_train, X_test, y_train, y_test = train_test_split(X, y,  train_size=0.7, test_size=0.3, random_state=123) "
   ]
  },
  {
   "cell_type": "code",
   "execution_count": 47,
   "metadata": {},
   "outputs": [
    {
     "name": "stdout",
     "output_type": "stream",
     "text": [
      "Parameters currently in use:\n",
      "\n",
      "{'bootstrap': True,\n",
      " 'class_weight': None,\n",
      " 'criterion': 'gini',\n",
      " 'max_depth': None,\n",
      " 'max_features': 'auto',\n",
      " 'max_leaf_nodes': None,\n",
      " 'min_impurity_decrease': 0.0,\n",
      " 'min_impurity_split': None,\n",
      " 'min_samples_leaf': 1,\n",
      " 'min_samples_split': 2,\n",
      " 'min_weight_fraction_leaf': 0.0,\n",
      " 'n_estimators': 'warn',\n",
      " 'n_jobs': None,\n",
      " 'oob_score': False,\n",
      " 'random_state': 42,\n",
      " 'verbose': 0,\n",
      " 'warm_start': False}\n",
      "Accuracy: 0.7743221690590112\n"
     ]
    },
    {
     "name": "stderr",
     "output_type": "stream",
     "text": [
      "C:\\Users\\USER\\Anaconda3\\lib\\site-packages\\sklearn\\ensemble\\forest.py:245: FutureWarning: The default value of n_estimators will change from 10 in version 0.20 to 100 in 0.22.\n",
      "  \"10 in version 0.20 to 100 in 0.22.\", FutureWarning)\n"
     ]
    }
   ],
   "source": [
    "from sklearn.ensemble import RandomForestClassifier\n",
    "rf = RandomForestClassifier(random_state = 42)\n",
    "from pprint import pprint\n",
    "from sklearn import metrics\n",
    "# Look at parameters used by our current forest\n",
    "print('Parameters currently in use:\\n')\n",
    "pprint(rf.get_params())\n",
    "\n",
    "# Train Adaboost Classifer\n",
    "model = rf.fit(X_train, y_train)\n",
    "\n",
    "#Predict the response for test dataset\n",
    "y_pred = model.predict(X_test)\n",
    "print(\"Accuracy:\",metrics.accuracy_score(y_test, y_pred))"
   ]
  },
  {
   "cell_type": "code",
   "execution_count": 48,
   "metadata": {},
   "outputs": [
    {
     "name": "stdout",
     "output_type": "stream",
     "text": [
      "{'bootstrap': [True, False],\n",
      " 'max_depth': [10, 20, 30, 40, 50, 60, 70, 80, 90, 100, 110, None],\n",
      " 'max_features': ['auto', 'sqrt'],\n",
      " 'min_samples_leaf': [1, 2, 4],\n",
      " 'min_samples_split': [2, 5, 10],\n",
      " 'n_estimators': [200, 400, 600, 800, 1000, 1200, 1400, 1600, 1800, 2000]}\n"
     ]
    }
   ],
   "source": [
    "from sklearn.model_selection import RandomizedSearchCV\n",
    "# Number of trees in random forest\n",
    "n_estimators = [int(x) for x in np.linspace(start = 200, stop = 2000, num = 10)]\n",
    "# Number of features to consider at every split\n",
    "max_features = ['auto', 'sqrt']\n",
    "# Maximum number of levels in tree\n",
    "max_depth = [int(x) for x in np.linspace(10, 110, num = 11)]\n",
    "max_depth.append(None)\n",
    "# Minimum number of samples required to split a node\n",
    "min_samples_split = [2, 5, 10]\n",
    "# Minimum number of samples required at each leaf node\n",
    "min_samples_leaf = [1, 2, 4]\n",
    "# Method of selecting samples for training each tree\n",
    "bootstrap = [True, False]\n",
    "# Create the random grid\n",
    "random_grid = {'n_estimators': n_estimators,\n",
    "               'max_features': max_features,\n",
    "               'max_depth': max_depth,\n",
    "               'min_samples_split': min_samples_split,\n",
    "               'min_samples_leaf': min_samples_leaf,\n",
    "               'bootstrap': bootstrap}\n",
    "pprint(random_grid)"
   ]
  },
  {
   "cell_type": "code",
   "execution_count": 49,
   "metadata": {},
   "outputs": [],
   "source": [
    "# Required Python Packages\n",
    "import pandas as pd\n",
    "from sklearn.model_selection import train_test_split\n",
    "from sklearn.ensemble import RandomForestClassifier\n",
    "from sklearn.metrics import accuracy_score\n",
    "from sklearn.metrics import confusion_matrix"
   ]
  },
  {
   "cell_type": "code",
   "execution_count": 50,
   "metadata": {},
   "outputs": [
    {
     "name": "stdout",
     "output_type": "stream",
     "text": [
      "Fitting 3 folds for each of 100 candidates, totalling 300 fits\n"
     ]
    },
    {
     "name": "stderr",
     "output_type": "stream",
     "text": [
      "[Parallel(n_jobs=-1)]: Using backend LokyBackend with 4 concurrent workers.\n",
      "[Parallel(n_jobs=-1)]: Done  33 tasks      | elapsed:  2.5min\n",
      "[Parallel(n_jobs=-1)]: Done 154 tasks      | elapsed: 10.3min\n",
      "[Parallel(n_jobs=-1)]: Done 300 out of 300 | elapsed: 26.0min finished\n"
     ]
    },
    {
     "name": "stdout",
     "output_type": "stream",
     "text": [
      "0.7791068580542265\n"
     ]
    }
   ],
   "source": [
    "# Use the random grid to search for best hyperparameters\n",
    "# First create the base model to tune\n",
    "rf = RandomForestClassifier()\n",
    "# Random search of parameters, using 3 fold cross validation, \n",
    "# search across 100 different combinations, and use all available cores\n",
    "rf_random = RandomizedSearchCV(estimator = rf, param_distributions = random_grid, n_iter = 100, cv = 3, verbose=2, random_state=42, n_jobs = -1)\n",
    "# Fit the random search model\n",
    "rf_random.fit(X_train,y_train)\n",
    "train_pred = rf_random .predict(X_train)\n",
    "accuracy = rf_random .score(X_test, y_test) \n",
    "print(accuracy) \n",
    "   "
   ]
  },
  {
   "cell_type": "code",
   "execution_count": 43,
   "metadata": {},
   "outputs": [
    {
     "data": {
      "text/plain": [
       "{'n_estimators': 600,\n",
       " 'min_samples_split': 10,\n",
       " 'min_samples_leaf': 2,\n",
       " 'max_features': 'auto',\n",
       " 'max_depth': 100,\n",
       " 'bootstrap': True}"
      ]
     },
     "execution_count": 43,
     "metadata": {},
     "output_type": "execute_result"
    }
   ],
   "source": [
    "rf_random.best_params_"
   ]
  },
  {
   "cell_type": "code",
   "execution_count": null,
   "metadata": {},
   "outputs": [],
   "source": []
  },
  {
   "cell_type": "code",
   "execution_count": null,
   "metadata": {},
   "outputs": [],
   "source": []
  },
  {
   "cell_type": "code",
   "execution_count": null,
   "metadata": {},
   "outputs": [],
   "source": []
  },
  {
   "cell_type": "code",
   "execution_count": null,
   "metadata": {},
   "outputs": [],
   "source": []
  },
  {
   "cell_type": "code",
   "execution_count": null,
   "metadata": {},
   "outputs": [],
   "source": [
    "\n"
   ]
  },
  {
   "cell_type": "code",
   "execution_count": null,
   "metadata": {},
   "outputs": [],
   "source": []
  },
  {
   "cell_type": "code",
   "execution_count": null,
   "metadata": {},
   "outputs": [],
   "source": []
  },
  {
   "cell_type": "code",
   "execution_count": null,
   "metadata": {},
   "outputs": [],
   "source": []
  },
  {
   "cell_type": "code",
   "execution_count": null,
   "metadata": {},
   "outputs": [],
   "source": []
  },
  {
   "cell_type": "code",
   "execution_count": null,
   "metadata": {},
   "outputs": [],
   "source": []
  },
  {
   "cell_type": "code",
   "execution_count": null,
   "metadata": {},
   "outputs": [],
   "source": []
  },
  {
   "cell_type": "code",
   "execution_count": null,
   "metadata": {},
   "outputs": [],
   "source": []
  }
 ],
 "metadata": {
  "kernelspec": {
   "display_name": "Python 3",
   "language": "python",
   "name": "python3"
  },
  "language_info": {
   "codemirror_mode": {
    "name": "ipython",
    "version": 3
   },
   "file_extension": ".py",
   "mimetype": "text/x-python",
   "name": "python",
   "nbconvert_exporter": "python",
   "pygments_lexer": "ipython3",
   "version": "3.7.3"
  }
 },
 "nbformat": 4,
 "nbformat_minor": 2
}
